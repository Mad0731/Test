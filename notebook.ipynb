{
 "cells": [
  {
   "cell_type": "markdown",
   "id": "4bed1bd6-014e-4601-a865-e81acb872199",
   "metadata": {},
   "source": [
    "### Notebook"
   ]
  },
  {
   "cell_type": "code",
   "execution_count": 1,
   "id": "be0c772d-0de1-484d-b2f1-5e06ec265557",
   "metadata": {},
   "outputs": [],
   "source": [
    "### Import python libraries\n",
    "import pandas as pd\n",
    "import numpy as np\n",
    "import seaborn as sns\n",
    "\n",
    "from sklearn.model_selection import train_test_split\n",
    "from sklearn.tree import DecisionTreeClassifier\n",
    "from sklearn.ensemble import RandomForestRegressor\n",
    "from sklearn.ensemble import GradientBoostingClassifier"
   ]
  },
  {
   "cell_type": "code",
   "execution_count": 3,
   "id": "8ab22347-5561-48b8-bb0a-b4eb6ad384ec",
   "metadata": {},
   "outputs": [],
   "source": [
    "df = pd.read_csv('./Data/RCS_of_ELC.csv')"
   ]
  },
  {
   "cell_type": "code",
   "execution_count": 4,
   "id": "987cc5a3-dca7-44e7-ab36-fcc9a4fdbf5c",
   "metadata": {},
   "outputs": [
    {
     "name": "stdout",
     "output_type": "stream",
     "text": [
      "<class 'pandas.core.frame.DataFrame'>\n",
      "RangeIndex: 1008007 entries, 0 to 1008006\n",
      "Data columns (total 6 columns):\n",
      " #   Column           Non-Null Count    Dtype  \n",
      "---  ------           --------------    -----  \n",
      " 0   la               1008007 non-null  int64  \n",
      " 1   lb               1008007 non-null  int64  \n",
      " 2   l1               1008007 non-null  float64\n",
      " 3   w                1008007 non-null  float64\n",
      " 4   Frequency / GHz  1008007 non-null  float64\n",
      " 5   RCS              1008007 non-null  float64\n",
      "dtypes: float64(4), int64(2)\n",
      "memory usage: 46.1 MB\n"
     ]
    }
   ],
   "source": [
    "df.info()"
   ]
  },
  {
   "cell_type": "code",
   "execution_count": 5,
   "id": "49ea1751-dff2-4e3c-b5e6-a37149349bfb",
   "metadata": {},
   "outputs": [
    {
     "data": {
      "text/html": [
       "<div>\n",
       "<style scoped>\n",
       "    .dataframe tbody tr th:only-of-type {\n",
       "        vertical-align: middle;\n",
       "    }\n",
       "\n",
       "    .dataframe tbody tr th {\n",
       "        vertical-align: top;\n",
       "    }\n",
       "\n",
       "    .dataframe thead th {\n",
       "        text-align: right;\n",
       "    }\n",
       "</style>\n",
       "<table border=\"1\" class=\"dataframe\">\n",
       "  <thead>\n",
       "    <tr style=\"text-align: right;\">\n",
       "      <th></th>\n",
       "      <th>la</th>\n",
       "      <th>lb</th>\n",
       "      <th>l1</th>\n",
       "      <th>w</th>\n",
       "      <th>Frequency / GHz</th>\n",
       "      <th>RCS</th>\n",
       "    </tr>\n",
       "  </thead>\n",
       "  <tbody>\n",
       "    <tr>\n",
       "      <th>0</th>\n",
       "      <td>5</td>\n",
       "      <td>5</td>\n",
       "      <td>3.0</td>\n",
       "      <td>0.5</td>\n",
       "      <td>1.000</td>\n",
       "      <td>-64.943948</td>\n",
       "    </tr>\n",
       "    <tr>\n",
       "      <th>1</th>\n",
       "      <td>5</td>\n",
       "      <td>5</td>\n",
       "      <td>3.0</td>\n",
       "      <td>0.5</td>\n",
       "      <td>1.009</td>\n",
       "      <td>-64.999175</td>\n",
       "    </tr>\n",
       "    <tr>\n",
       "      <th>2</th>\n",
       "      <td>5</td>\n",
       "      <td>5</td>\n",
       "      <td>3.0</td>\n",
       "      <td>0.5</td>\n",
       "      <td>1.018</td>\n",
       "      <td>-65.111787</td>\n",
       "    </tr>\n",
       "    <tr>\n",
       "      <th>3</th>\n",
       "      <td>5</td>\n",
       "      <td>5</td>\n",
       "      <td>3.0</td>\n",
       "      <td>0.5</td>\n",
       "      <td>1.027</td>\n",
       "      <td>-65.282981</td>\n",
       "    </tr>\n",
       "    <tr>\n",
       "      <th>4</th>\n",
       "      <td>5</td>\n",
       "      <td>5</td>\n",
       "      <td>3.0</td>\n",
       "      <td>0.5</td>\n",
       "      <td>1.036</td>\n",
       "      <td>-65.514548</td>\n",
       "    </tr>\n",
       "  </tbody>\n",
       "</table>\n",
       "</div>"
      ],
      "text/plain": [
       "   la  lb   l1    w  Frequency / GHz        RCS\n",
       "0   5   5  3.0  0.5            1.000 -64.943948\n",
       "1   5   5  3.0  0.5            1.009 -64.999175\n",
       "2   5   5  3.0  0.5            1.018 -65.111787\n",
       "3   5   5  3.0  0.5            1.027 -65.282981\n",
       "4   5   5  3.0  0.5            1.036 -65.514548"
      ]
     },
     "execution_count": 5,
     "metadata": {},
     "output_type": "execute_result"
    }
   ],
   "source": [
    "df.head()"
   ]
  },
  {
   "cell_type": "markdown",
   "id": "51c24272-0e9a-445d-8f74-bc4d5b30a7ce",
   "metadata": {},
   "source": [
    "#### Test the correlation"
   ]
  },
  {
   "cell_type": "code",
   "execution_count": 6,
   "id": "761787a7-7ec9-4f64-93c6-c1db77f828b6",
   "metadata": {},
   "outputs": [],
   "source": [
    "df.rename(columns = {'Frequency / GHz' : 'ghz'}, inplace = True)"
   ]
  },
  {
   "cell_type": "code",
   "execution_count": 7,
   "id": "136ec949-cb22-4693-b97d-482c2d518c4a",
   "metadata": {},
   "outputs": [
    {
     "data": {
      "text/html": [
       "<div>\n",
       "<style scoped>\n",
       "    .dataframe tbody tr th:only-of-type {\n",
       "        vertical-align: middle;\n",
       "    }\n",
       "\n",
       "    .dataframe tbody tr th {\n",
       "        vertical-align: top;\n",
       "    }\n",
       "\n",
       "    .dataframe thead th {\n",
       "        text-align: right;\n",
       "    }\n",
       "</style>\n",
       "<table border=\"1\" class=\"dataframe\">\n",
       "  <thead>\n",
       "    <tr style=\"text-align: right;\">\n",
       "      <th></th>\n",
       "      <th>la</th>\n",
       "      <th>lb</th>\n",
       "      <th>l1</th>\n",
       "      <th>w</th>\n",
       "      <th>ghz</th>\n",
       "      <th>RCS</th>\n",
       "    </tr>\n",
       "  </thead>\n",
       "  <tbody>\n",
       "    <tr>\n",
       "      <th>0</th>\n",
       "      <td>5</td>\n",
       "      <td>5</td>\n",
       "      <td>3.0</td>\n",
       "      <td>0.5</td>\n",
       "      <td>1.000</td>\n",
       "      <td>-64.943948</td>\n",
       "    </tr>\n",
       "    <tr>\n",
       "      <th>1</th>\n",
       "      <td>5</td>\n",
       "      <td>5</td>\n",
       "      <td>3.0</td>\n",
       "      <td>0.5</td>\n",
       "      <td>1.009</td>\n",
       "      <td>-64.999175</td>\n",
       "    </tr>\n",
       "    <tr>\n",
       "      <th>2</th>\n",
       "      <td>5</td>\n",
       "      <td>5</td>\n",
       "      <td>3.0</td>\n",
       "      <td>0.5</td>\n",
       "      <td>1.018</td>\n",
       "      <td>-65.111787</td>\n",
       "    </tr>\n",
       "    <tr>\n",
       "      <th>3</th>\n",
       "      <td>5</td>\n",
       "      <td>5</td>\n",
       "      <td>3.0</td>\n",
       "      <td>0.5</td>\n",
       "      <td>1.027</td>\n",
       "      <td>-65.282981</td>\n",
       "    </tr>\n",
       "    <tr>\n",
       "      <th>4</th>\n",
       "      <td>5</td>\n",
       "      <td>5</td>\n",
       "      <td>3.0</td>\n",
       "      <td>0.5</td>\n",
       "      <td>1.036</td>\n",
       "      <td>-65.514548</td>\n",
       "    </tr>\n",
       "  </tbody>\n",
       "</table>\n",
       "</div>"
      ],
      "text/plain": [
       "   la  lb   l1    w    ghz        RCS\n",
       "0   5   5  3.0  0.5  1.000 -64.943948\n",
       "1   5   5  3.0  0.5  1.009 -64.999175\n",
       "2   5   5  3.0  0.5  1.018 -65.111787\n",
       "3   5   5  3.0  0.5  1.027 -65.282981\n",
       "4   5   5  3.0  0.5  1.036 -65.514548"
      ]
     },
     "execution_count": 7,
     "metadata": {},
     "output_type": "execute_result"
    }
   ],
   "source": [
    "df.head()"
   ]
  },
  {
   "cell_type": "code",
   "execution_count": 8,
   "id": "d29af998-333b-44ff-8b71-a3489f770c78",
   "metadata": {},
   "outputs": [],
   "source": [
    "## Define X,y\n",
    "\n",
    "X = df.loc[:,'la':'w']\n",
    "y = df['RCS']"
   ]
  },
  {
   "cell_type": "code",
   "execution_count": 9,
   "id": "70dc8895-b6f5-4154-9134-fb88cacdc0b7",
   "metadata": {},
   "outputs": [],
   "source": [
    "### Train test split the data\n",
    "X_train, X_test, y_train, y_test = train_test_split(X,y,test_size=0.25,random_state=2020) "
   ]
  },
  {
   "cell_type": "markdown",
   "id": "84d88a99-3769-44dc-9b70-11516563b4e7",
   "metadata": {},
   "source": [
    "### Instantiate RandomForestRegressor"
   ]
  },
  {
   "cell_type": "code",
   "execution_count": 10,
   "id": "accfd628-d23b-40ba-95e2-a133f581c9e3",
   "metadata": {},
   "outputs": [],
   "source": [
    "rfc =  RandomForestRegressor(random_state=42)"
   ]
  },
  {
   "cell_type": "code",
   "execution_count": 11,
   "id": "055dc122-2e8e-4c8d-b75f-199bfa54f0c5",
   "metadata": {},
   "outputs": [
    {
     "data": {
      "text/html": [
       "<style>#sk-container-id-1 {color: black;}#sk-container-id-1 pre{padding: 0;}#sk-container-id-1 div.sk-toggleable {background-color: white;}#sk-container-id-1 label.sk-toggleable__label {cursor: pointer;display: block;width: 100%;margin-bottom: 0;padding: 0.3em;box-sizing: border-box;text-align: center;}#sk-container-id-1 label.sk-toggleable__label-arrow:before {content: \"▸\";float: left;margin-right: 0.25em;color: #696969;}#sk-container-id-1 label.sk-toggleable__label-arrow:hover:before {color: black;}#sk-container-id-1 div.sk-estimator:hover label.sk-toggleable__label-arrow:before {color: black;}#sk-container-id-1 div.sk-toggleable__content {max-height: 0;max-width: 0;overflow: hidden;text-align: left;background-color: #f0f8ff;}#sk-container-id-1 div.sk-toggleable__content pre {margin: 0.2em;color: black;border-radius: 0.25em;background-color: #f0f8ff;}#sk-container-id-1 input.sk-toggleable__control:checked~div.sk-toggleable__content {max-height: 200px;max-width: 100%;overflow: auto;}#sk-container-id-1 input.sk-toggleable__control:checked~label.sk-toggleable__label-arrow:before {content: \"▾\";}#sk-container-id-1 div.sk-estimator input.sk-toggleable__control:checked~label.sk-toggleable__label {background-color: #d4ebff;}#sk-container-id-1 div.sk-label input.sk-toggleable__control:checked~label.sk-toggleable__label {background-color: #d4ebff;}#sk-container-id-1 input.sk-hidden--visually {border: 0;clip: rect(1px 1px 1px 1px);clip: rect(1px, 1px, 1px, 1px);height: 1px;margin: -1px;overflow: hidden;padding: 0;position: absolute;width: 1px;}#sk-container-id-1 div.sk-estimator {font-family: monospace;background-color: #f0f8ff;border: 1px dotted black;border-radius: 0.25em;box-sizing: border-box;margin-bottom: 0.5em;}#sk-container-id-1 div.sk-estimator:hover {background-color: #d4ebff;}#sk-container-id-1 div.sk-parallel-item::after {content: \"\";width: 100%;border-bottom: 1px solid gray;flex-grow: 1;}#sk-container-id-1 div.sk-label:hover label.sk-toggleable__label {background-color: #d4ebff;}#sk-container-id-1 div.sk-serial::before {content: \"\";position: absolute;border-left: 1px solid gray;box-sizing: border-box;top: 0;bottom: 0;left: 50%;z-index: 0;}#sk-container-id-1 div.sk-serial {display: flex;flex-direction: column;align-items: center;background-color: white;padding-right: 0.2em;padding-left: 0.2em;position: relative;}#sk-container-id-1 div.sk-item {position: relative;z-index: 1;}#sk-container-id-1 div.sk-parallel {display: flex;align-items: stretch;justify-content: center;background-color: white;position: relative;}#sk-container-id-1 div.sk-item::before, #sk-container-id-1 div.sk-parallel-item::before {content: \"\";position: absolute;border-left: 1px solid gray;box-sizing: border-box;top: 0;bottom: 0;left: 50%;z-index: -1;}#sk-container-id-1 div.sk-parallel-item {display: flex;flex-direction: column;z-index: 1;position: relative;background-color: white;}#sk-container-id-1 div.sk-parallel-item:first-child::after {align-self: flex-end;width: 50%;}#sk-container-id-1 div.sk-parallel-item:last-child::after {align-self: flex-start;width: 50%;}#sk-container-id-1 div.sk-parallel-item:only-child::after {width: 0;}#sk-container-id-1 div.sk-dashed-wrapped {border: 1px dashed gray;margin: 0 0.4em 0.5em 0.4em;box-sizing: border-box;padding-bottom: 0.4em;background-color: white;}#sk-container-id-1 div.sk-label label {font-family: monospace;font-weight: bold;display: inline-block;line-height: 1.2em;}#sk-container-id-1 div.sk-label-container {text-align: center;}#sk-container-id-1 div.sk-container {/* jupyter's `normalize.less` sets `[hidden] { display: none; }` but bootstrap.min.css set `[hidden] { display: none !important; }` so we also need the `!important` here to be able to override the default hidden behavior on the sphinx rendered scikit-learn.org. See: https://github.com/scikit-learn/scikit-learn/issues/21755 */display: inline-block !important;position: relative;}#sk-container-id-1 div.sk-text-repr-fallback {display: none;}</style><div id=\"sk-container-id-1\" class=\"sk-top-container\"><div class=\"sk-text-repr-fallback\"><pre>RandomForestRegressor(random_state=42)</pre><b>In a Jupyter environment, please rerun this cell to show the HTML representation or trust the notebook. <br />On GitHub, the HTML representation is unable to render, please try loading this page with nbviewer.org.</b></div><div class=\"sk-container\" hidden><div class=\"sk-item\"><div class=\"sk-estimator sk-toggleable\"><input class=\"sk-toggleable__control sk-hidden--visually\" id=\"sk-estimator-id-1\" type=\"checkbox\" checked><label for=\"sk-estimator-id-1\" class=\"sk-toggleable__label sk-toggleable__label-arrow\">RandomForestRegressor</label><div class=\"sk-toggleable__content\"><pre>RandomForestRegressor(random_state=42)</pre></div></div></div></div></div>"
      ],
      "text/plain": [
       "RandomForestRegressor(random_state=42)"
      ]
     },
     "execution_count": 11,
     "metadata": {},
     "output_type": "execute_result"
    }
   ],
   "source": [
    "rfc.fit(X_train,y_train)"
   ]
  },
  {
   "cell_type": "code",
   "execution_count": 12,
   "id": "09bf774f-9c62-4dd0-8c31-99a51f56b2f0",
   "metadata": {},
   "outputs": [
    {
     "name": "stdout",
     "output_type": "stream",
     "text": [
      "Score for training data : 0.012\n"
     ]
    }
   ],
   "source": [
    "print(f\"Score for training data : {np.round(rfc.score(X_train,y_train),3)}\")"
   ]
  },
  {
   "cell_type": "code",
   "execution_count": 13,
   "id": "f8ed7ced-a01c-4d04-8834-309bddc70b13",
   "metadata": {},
   "outputs": [
    {
     "name": "stdout",
     "output_type": "stream",
     "text": [
      "Score for testing data : 0.012\n"
     ]
    }
   ],
   "source": [
    "print(f\"Score for testing data : {np.round(rfc.score(X_train,y_train),3)}\")"
   ]
  },
  {
   "cell_type": "code",
   "execution_count": 14,
   "id": "df7f68f4-b16c-486a-aa6d-6a0b21762bb6",
   "metadata": {},
   "outputs": [],
   "source": [
    "preds = rfc.predict(X_test)"
   ]
  },
  {
   "cell_type": "markdown",
   "id": "95dcfe00-283e-4cbb-8c9d-3d6d3ba9da9f",
   "metadata": {},
   "source": [
    "#### Dataframe for Predictions"
   ]
  },
  {
   "cell_type": "code",
   "execution_count": 15,
   "id": "f944d05b-a48c-49c0-89e3-95a15cd80577",
   "metadata": {},
   "outputs": [
    {
     "data": {
      "text/html": [
       "<div>\n",
       "<style scoped>\n",
       "    .dataframe tbody tr th:only-of-type {\n",
       "        vertical-align: middle;\n",
       "    }\n",
       "\n",
       "    .dataframe tbody tr th {\n",
       "        vertical-align: top;\n",
       "    }\n",
       "\n",
       "    .dataframe thead th {\n",
       "        text-align: right;\n",
       "    }\n",
       "</style>\n",
       "<table border=\"1\" class=\"dataframe\">\n",
       "  <thead>\n",
       "    <tr style=\"text-align: right;\">\n",
       "      <th></th>\n",
       "      <th>Predictions</th>\n",
       "      <th>True_data</th>\n",
       "    </tr>\n",
       "  </thead>\n",
       "  <tbody>\n",
       "    <tr>\n",
       "      <th>526580</th>\n",
       "      <td>-40.579</td>\n",
       "      <td>-61.740</td>\n",
       "    </tr>\n",
       "    <tr>\n",
       "      <th>834208</th>\n",
       "      <td>-39.419</td>\n",
       "      <td>-50.358</td>\n",
       "    </tr>\n",
       "    <tr>\n",
       "      <th>307263</th>\n",
       "      <td>-42.236</td>\n",
       "      <td>-31.121</td>\n",
       "    </tr>\n",
       "    <tr>\n",
       "      <th>973860</th>\n",
       "      <td>-41.277</td>\n",
       "      <td>-30.458</td>\n",
       "    </tr>\n",
       "    <tr>\n",
       "      <th>208694</th>\n",
       "      <td>-39.538</td>\n",
       "      <td>-48.858</td>\n",
       "    </tr>\n",
       "    <tr>\n",
       "      <th>...</th>\n",
       "      <td>...</td>\n",
       "      <td>...</td>\n",
       "    </tr>\n",
       "    <tr>\n",
       "      <th>690739</th>\n",
       "      <td>-41.023</td>\n",
       "      <td>-60.036</td>\n",
       "    </tr>\n",
       "    <tr>\n",
       "      <th>956789</th>\n",
       "      <td>-39.528</td>\n",
       "      <td>-29.308</td>\n",
       "    </tr>\n",
       "    <tr>\n",
       "      <th>470054</th>\n",
       "      <td>-41.838</td>\n",
       "      <td>-38.207</td>\n",
       "    </tr>\n",
       "    <tr>\n",
       "      <th>474851</th>\n",
       "      <td>-41.505</td>\n",
       "      <td>-42.186</td>\n",
       "    </tr>\n",
       "    <tr>\n",
       "      <th>57204</th>\n",
       "      <td>-41.653</td>\n",
       "      <td>-53.556</td>\n",
       "    </tr>\n",
       "  </tbody>\n",
       "</table>\n",
       "<p>252002 rows × 2 columns</p>\n",
       "</div>"
      ],
      "text/plain": [
       "        Predictions  True_data\n",
       "526580      -40.579    -61.740\n",
       "834208      -39.419    -50.358\n",
       "307263      -42.236    -31.121\n",
       "973860      -41.277    -30.458\n",
       "208694      -39.538    -48.858\n",
       "...             ...        ...\n",
       "690739      -41.023    -60.036\n",
       "956789      -39.528    -29.308\n",
       "470054      -41.838    -38.207\n",
       "474851      -41.505    -42.186\n",
       "57204       -41.653    -53.556\n",
       "\n",
       "[252002 rows x 2 columns]"
      ]
     },
     "execution_count": 15,
     "metadata": {},
     "output_type": "execute_result"
    }
   ],
   "source": [
    "pd.DataFrame({'Predictions':np.round(preds,3), 'True_data': np.round(y_test,3)})"
   ]
  },
  {
   "cell_type": "code",
   "execution_count": 16,
   "id": "c660905c-2bd2-440d-adb5-f30187a67510",
   "metadata": {},
   "outputs": [
    {
     "data": {
      "text/html": [
       "<div>\n",
       "<style scoped>\n",
       "    .dataframe tbody tr th:only-of-type {\n",
       "        vertical-align: middle;\n",
       "    }\n",
       "\n",
       "    .dataframe tbody tr th {\n",
       "        vertical-align: top;\n",
       "    }\n",
       "\n",
       "    .dataframe thead th {\n",
       "        text-align: right;\n",
       "    }\n",
       "</style>\n",
       "<table border=\"1\" class=\"dataframe\">\n",
       "  <thead>\n",
       "    <tr style=\"text-align: right;\">\n",
       "      <th></th>\n",
       "      <th>la</th>\n",
       "      <th>lb</th>\n",
       "      <th>l1</th>\n",
       "      <th>w</th>\n",
       "    </tr>\n",
       "  </thead>\n",
       "  <tbody>\n",
       "    <tr>\n",
       "      <th>526580</th>\n",
       "      <td>5</td>\n",
       "      <td>8</td>\n",
       "      <td>4.0</td>\n",
       "      <td>0.6</td>\n",
       "    </tr>\n",
       "    <tr>\n",
       "      <th>834208</th>\n",
       "      <td>6</td>\n",
       "      <td>10</td>\n",
       "      <td>4.5</td>\n",
       "      <td>0.5</td>\n",
       "    </tr>\n",
       "    <tr>\n",
       "      <th>307263</th>\n",
       "      <td>6</td>\n",
       "      <td>6</td>\n",
       "      <td>3.5</td>\n",
       "      <td>1.0</td>\n",
       "    </tr>\n",
       "    <tr>\n",
       "      <th>973860</th>\n",
       "      <td>10</td>\n",
       "      <td>6</td>\n",
       "      <td>4.5</td>\n",
       "      <td>0.4</td>\n",
       "    </tr>\n",
       "    <tr>\n",
       "      <th>208694</th>\n",
       "      <td>9</td>\n",
       "      <td>10</td>\n",
       "      <td>3.0</td>\n",
       "      <td>1.0</td>\n",
       "    </tr>\n",
       "    <tr>\n",
       "      <th>...</th>\n",
       "      <td>...</td>\n",
       "      <td>...</td>\n",
       "      <td>...</td>\n",
       "      <td>...</td>\n",
       "    </tr>\n",
       "    <tr>\n",
       "      <th>690739</th>\n",
       "      <td>9</td>\n",
       "      <td>7</td>\n",
       "      <td>4.0</td>\n",
       "      <td>0.9</td>\n",
       "    </tr>\n",
       "    <tr>\n",
       "      <th>956789</th>\n",
       "      <td>9</td>\n",
       "      <td>9</td>\n",
       "      <td>4.5</td>\n",
       "      <td>0.8</td>\n",
       "    </tr>\n",
       "    <tr>\n",
       "      <th>470054</th>\n",
       "      <td>10</td>\n",
       "      <td>6</td>\n",
       "      <td>3.5</td>\n",
       "      <td>0.5</td>\n",
       "    </tr>\n",
       "    <tr>\n",
       "      <th>474851</th>\n",
       "      <td>10</td>\n",
       "      <td>6</td>\n",
       "      <td>3.5</td>\n",
       "      <td>1.0</td>\n",
       "    </tr>\n",
       "    <tr>\n",
       "      <th>57204</th>\n",
       "      <td>6</td>\n",
       "      <td>7</td>\n",
       "      <td>3.0</td>\n",
       "      <td>0.6</td>\n",
       "    </tr>\n",
       "  </tbody>\n",
       "</table>\n",
       "<p>252002 rows × 4 columns</p>\n",
       "</div>"
      ],
      "text/plain": [
       "        la  lb   l1    w\n",
       "526580   5   8  4.0  0.6\n",
       "834208   6  10  4.5  0.5\n",
       "307263   6   6  3.5  1.0\n",
       "973860  10   6  4.5  0.4\n",
       "208694   9  10  3.0  1.0\n",
       "...     ..  ..  ...  ...\n",
       "690739   9   7  4.0  0.9\n",
       "956789   9   9  4.5  0.8\n",
       "470054  10   6  3.5  0.5\n",
       "474851  10   6  3.5  1.0\n",
       "57204    6   7  3.0  0.6\n",
       "\n",
       "[252002 rows x 4 columns]"
      ]
     },
     "execution_count": 16,
     "metadata": {},
     "output_type": "execute_result"
    }
   ],
   "source": [
    "X_test"
   ]
  }
 ],
 "metadata": {
  "kernelspec": {
   "display_name": "Python 3 (ipykernel)",
   "language": "python",
   "name": "python3"
  },
  "language_info": {
   "codemirror_mode": {
    "name": "ipython",
    "version": 3
   },
   "file_extension": ".py",
   "mimetype": "text/x-python",
   "name": "python",
   "nbconvert_exporter": "python",
   "pygments_lexer": "ipython3",
   "version": "3.9.17"
  }
 },
 "nbformat": 4,
 "nbformat_minor": 5
}
